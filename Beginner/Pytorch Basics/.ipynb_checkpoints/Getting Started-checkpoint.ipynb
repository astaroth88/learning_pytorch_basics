{
 "cells": [
  {
   "cell_type": "markdown",
   "metadata": {},
   "source": [
    "# What is PyTorch?\n",
    "It's a python based scientific computing package targeted at two sets of audiences:\n",
    "\n",
    "- A replacement for NumPy to use the power of GPUs\n",
    "- a deep learning research platform that provides max flexibility and speed"
   ]
  },
  {
   "cell_type": "markdown",
   "metadata": {},
   "source": [
    "## Tensors\n",
    "\n",
    "Tensors are similar to NumPy's ndarrays, with the addition that Tensors can also be used on a GPU to accelerate computing."
   ]
  },
  {
   "cell_type": "code",
   "execution_count": 1,
   "metadata": {},
   "outputs": [],
   "source": [
    "from __future__ import print_function\n",
    "import torch"
   ]
  },
  {
   "cell_type": "code",
   "execution_count": 36,
   "metadata": {},
   "outputs": [
    {
     "name": "stdout",
     "output_type": "stream",
     "text": [
      "tensor([[0., 0., 0., 0., 0.],\n",
      "        [0., 0., 0., 0., 0.],\n",
      "        [0., 0., 0., 0., 0.],\n",
      "        [0., 0., 0., 0., 0.],\n",
      "        [0., 0., 0., 0., 0.]])\n"
     ]
    }
   ],
   "source": [
    "# 5x5 uninitialized matrix\n",
    "x = torch.empty(5, 5)\n",
    "print(x)"
   ]
  },
  {
   "cell_type": "code",
   "execution_count": 37,
   "metadata": {},
   "outputs": [
    {
     "name": "stdout",
     "output_type": "stream",
     "text": [
      "tensor([[0.8209, 0.0377, 0.6134, 0.7565, 0.2979, 0.3036],\n",
      "        [0.8277, 0.2629, 0.3097, 0.4658, 0.4472, 0.0484],\n",
      "        [0.0125, 0.2452, 0.7828, 0.3846, 0.9740, 0.6595],\n",
      "        [0.9850, 0.7121, 0.8365, 0.5641, 0.9867, 0.8554],\n",
      "        [0.9915, 0.4676, 0.2354, 0.9021, 0.1514, 0.0314],\n",
      "        [0.5880, 0.5091, 0.7824, 0.2825, 0.0906, 0.9401]])\n"
     ]
    }
   ],
   "source": [
    "# 6x6 randomly initialized matrix\n",
    "x = torch.rand(6, 6)\n",
    "print(x)"
   ]
  },
  {
   "cell_type": "code",
   "execution_count": 39,
   "metadata": {},
   "outputs": [
    {
     "name": "stdout",
     "output_type": "stream",
     "text": [
      "tensor([[0, 0, 0],\n",
      "        [0, 0, 0],\n",
      "        [0, 0, 0],\n",
      "        [0, 0, 0],\n",
      "        [0, 0, 0]])\n"
     ]
    }
   ],
   "source": [
    "# 5x3 matrix filled zeros and of dtype long:\n",
    "x = torch.zeros(5, 3, dtype=torch.long)\n",
    "print(x)"
   ]
  },
  {
   "cell_type": "code",
   "execution_count": 40,
   "metadata": {},
   "outputs": [
    {
     "name": "stdout",
     "output_type": "stream",
     "text": [
      "tensor([5.5000, 3.0000])\n"
     ]
    }
   ],
   "source": [
    "# tensor constructed directly from data\n",
    "x = torch.tensor([5.5, 3])\n",
    "print(x)"
   ]
  },
  {
   "cell_type": "code",
   "execution_count": 43,
   "metadata": {},
   "outputs": [
    {
     "name": "stdout",
     "output_type": "stream",
     "text": [
      "tensor([[1., 1., 1.],\n",
      "        [1., 1., 1.],\n",
      "        [1., 1., 1.],\n",
      "        [1., 1., 1.],\n",
      "        [1., 1., 1.]], dtype=torch.float64)\n",
      "tensor([[ 0.5411, -0.0655,  1.0977],\n",
      "        [-1.6727,  0.0216, -0.6620],\n",
      "        [ 1.1233,  0.9863,  1.9779],\n",
      "        [-1.5664, -1.1773, -0.0081],\n",
      "        [ 2.0390,  0.4050, -0.1713]])\n",
      "Size of tensor\n",
      "torch.Size([5, 3])\n"
     ]
    }
   ],
   "source": [
    "# create tensor based on existing tensor\n",
    "\n",
    "x= x.new_ones(5, 3, dtype=torch.double) # new_* methods take in sizes\n",
    "print(x)\n",
    "\n",
    "x = torch.randn_like(x, dtype=torch.float) # override dtype!\n",
    "print(x)\n",
    "\n",
    "print('Size of tensor')\n",
    "print(x.size())"
   ]
  },
  {
   "cell_type": "markdown",
   "metadata": {},
   "source": [
    "## Operation\n",
    "\n",
    "There are multiple syntaxes for operation."
   ]
  },
  {
   "cell_type": "markdown",
   "metadata": {},
   "source": [
    "### Addition"
   ]
  },
  {
   "cell_type": "code",
   "execution_count": 61,
   "metadata": {},
   "outputs": [
    {
     "name": "stdout",
     "output_type": "stream",
     "text": [
      "x =\n",
      "tensor([[ 0.5411, -0.0655,  1.0977],\n",
      "        [-1.6727,  0.0216, -0.6620],\n",
      "        [ 1.1233,  0.9863,  1.9779],\n",
      "        [-1.5664, -1.1773, -0.0081],\n",
      "        [ 2.0390,  0.4050, -0.1713]])\n",
      "x.shape: torch.Size([5, 3])\n",
      "---------------------------------------------\n",
      "y =\n",
      "tensor([[0.0043, 0.8592, 0.0397],\n",
      "        [0.1341, 0.7669, 0.2296],\n",
      "        [0.2005, 0.6489, 0.3297],\n",
      "        [0.8118, 0.6868, 0.3083],\n",
      "        [0.1220, 0.5192, 0.4665]])\n",
      "y.shape: torch.Size([5, 3])\n"
     ]
    }
   ],
   "source": [
    "y = torch.rand(5, 3)\n",
    "\n",
    "print(\"x =\")\n",
    "print(x)\n",
    "print('x.shape:', str(x.shape))\n",
    "print('-'*45)\n",
    "print(\"y =\")\n",
    "print(y)\n",
    "print('y.shape:', str(y.shape))"
   ]
  },
  {
   "cell_type": "code",
   "execution_count": 64,
   "metadata": {},
   "outputs": [
    {
     "name": "stdout",
     "output_type": "stream",
     "text": [
      "x + y =\n",
      "tensor([[ 0.5454,  0.7937,  1.1374],\n",
      "        [-1.5386,  0.7885, -0.4324],\n",
      "        [ 1.3238,  1.6352,  2.3076],\n",
      "        [-0.7545, -0.4905,  0.3002],\n",
      "        [ 2.1609,  0.9242,  0.2952]])\n",
      "(x+y).shape torch.Size([5, 3])\n"
     ]
    }
   ],
   "source": [
    "# syntax 1\n",
    "print('x + y =')\n",
    "print(x+y)\n",
    "print('(x+y).shape', str((x+y).shape))"
   ]
  },
  {
   "cell_type": "code",
   "execution_count": 63,
   "metadata": {},
   "outputs": [
    {
     "name": "stdout",
     "output_type": "stream",
     "text": [
      "x + y =\n",
      "tensor([[ 0.5454,  0.7937,  1.1374],\n",
      "        [-1.5386,  0.7885, -0.4324],\n",
      "        [ 1.3238,  1.6352,  2.3076],\n",
      "        [-0.7545, -0.4905,  0.3002],\n",
      "        [ 2.1609,  0.9242,  0.2952]])\n",
      "(x+y).shape torch.Size([5, 3])\n"
     ]
    }
   ],
   "source": [
    "# syntax 2\n",
    "print('x + y =')\n",
    "result = torch.empty(5, 3)\n",
    "print(torch.add(x,y, out=result))\n",
    "print('(x+y).shape', str((x+y).shape))"
   ]
  },
  {
   "cell_type": "code",
   "execution_count": 65,
   "metadata": {},
   "outputs": [
    {
     "name": "stdout",
     "output_type": "stream",
     "text": [
      "x + y =\n",
      "tensor([[ 0.5454,  0.7937,  1.1374],\n",
      "        [-1.5386,  0.7885, -0.4324],\n",
      "        [ 1.3238,  1.6352,  2.3076],\n",
      "        [-0.7545, -0.4905,  0.3002],\n",
      "        [ 2.1609,  0.9242,  0.2952]])\n"
     ]
    }
   ],
   "source": [
    "# syntax 3\n",
    "print('x + y =')\n",
    "print(y.add_(x))"
   ]
  },
  {
   "cell_type": "markdown",
   "metadata": {},
   "source": [
    "### Resizing/ Reshaping a tensor"
   ]
  },
  {
   "cell_type": "code",
   "execution_count": 67,
   "metadata": {},
   "outputs": [
    {
     "name": "stdout",
     "output_type": "stream",
     "text": [
      "torch.Size([4, 4]) torch.Size([16]) torch.Size([2, 8])\n"
     ]
    }
   ],
   "source": [
    "x = torch.randn(4, 4)\n",
    "y = x.view(4*4)\n",
    "z = x.view(-1, 8) # the size -1 is inferred from other dims\n",
    "print(x.size(), y.size(), z.size())"
   ]
  },
  {
   "cell_type": "markdown",
   "metadata": {},
   "source": [
    "### Converting a Torch Tensor to a NumPy Array"
   ]
  },
  {
   "cell_type": "code",
   "execution_count": 69,
   "metadata": {},
   "outputs": [
    {
     "name": "stdout",
     "output_type": "stream",
     "text": [
      "tensor([1., 1., 1., 1., 1.])\n"
     ]
    }
   ],
   "source": [
    "a = torch.ones(5)\n",
    "print(a)"
   ]
  },
  {
   "cell_type": "code",
   "execution_count": 70,
   "metadata": {},
   "outputs": [
    {
     "name": "stdout",
     "output_type": "stream",
     "text": [
      "[1. 1. 1. 1. 1.]\n"
     ]
    }
   ],
   "source": [
    "b = a.numpy()\n",
    "print(b)"
   ]
  },
  {
   "cell_type": "code",
   "execution_count": 71,
   "metadata": {},
   "outputs": [
    {
     "name": "stdout",
     "output_type": "stream",
     "text": [
      "tensor([2., 2., 2., 2., 2.])\n",
      "[2. 2. 2. 2. 2.]\n"
     ]
    }
   ],
   "source": [
    "a.add_(1)\n",
    "print(a)\n",
    "print(b)"
   ]
  },
  {
   "cell_type": "markdown",
   "metadata": {},
   "source": [
    "### Converting a NumPy Array to Torch Tensor"
   ]
  },
  {
   "cell_type": "code",
   "execution_count": 72,
   "metadata": {},
   "outputs": [
    {
     "name": "stdout",
     "output_type": "stream",
     "text": [
      "[2. 2. 2. 2. 2.]\n",
      "tensor([2., 2., 2., 2., 2.], dtype=torch.float64)\n"
     ]
    }
   ],
   "source": [
    "import numpy as np\n",
    "a = np.ones(5)\n",
    "b = torch.from_numpy(a)\n",
    "np.add(a, 1, out=a)\n",
    "print(a)\n",
    "print(b)"
   ]
  },
  {
   "cell_type": "markdown",
   "metadata": {},
   "source": [
    "### CUDA Tensors\n",
    "Tensors can be moved onto any device using the .to method"
   ]
  },
  {
   "cell_type": "code",
   "execution_count": 74,
   "metadata": {},
   "outputs": [
    {
     "name": "stdout",
     "output_type": "stream",
     "text": [
      "tensor([[ 1.6713,  2.6539,  1.2132,  1.4949],\n",
      "        [-0.0493,  1.3671, -0.5746,  1.9113],\n",
      "        [ 1.4553, -0.3207,  0.7920, -1.1936],\n",
      "        [ 0.7932, -0.2094,  1.9910,  0.9120]], device='cuda:0')\n",
      "tensor([[ 1.6713,  2.6539,  1.2132,  1.4949],\n",
      "        [-0.0493,  1.3671, -0.5746,  1.9113],\n",
      "        [ 1.4553, -0.3207,  0.7920, -1.1936],\n",
      "        [ 0.7932, -0.2094,  1.9910,  0.9120]], dtype=torch.float64)\n"
     ]
    }
   ],
   "source": [
    "# check for CUDA availability\n",
    "# we will use \"torch.device\" objects to move tensors in and out of GPU\n",
    "\n",
    "if torch.cuda.is_available():\n",
    "    device = torch.device('cuda')         # a CUDA device object\n",
    "    y = torch.ones_like(x, device=device) # directly create a tensor on GPU\n",
    "    x = x.to(device)                      # or just use strings \".to('cuda')\"\n",
    "    z = x+y\n",
    "    print(z)\n",
    "    print(z.to('cpu', torch.double))      # \".to\" can also change dtype together"
   ]
  }
 ],
 "metadata": {
  "kernelspec": {
   "display_name": "Python 3",
   "language": "python",
   "name": "python3"
  },
  "language_info": {
   "codemirror_mode": {
    "name": "ipython",
    "version": 3
   },
   "file_extension": ".py",
   "mimetype": "text/x-python",
   "name": "python",
   "nbconvert_exporter": "python",
   "pygments_lexer": "ipython3",
   "version": "3.6.6"
  }
 },
 "nbformat": 4,
 "nbformat_minor": 2
}
